{
  "nbformat": 4,
  "nbformat_minor": 0,
  "metadata": {
    "colab": {
      "provenance": [],
      "authorship_tag": "ABX9TyN0Nz+dKAwPShTvpWwRY21m",
      "include_colab_link": true
    },
    "kernelspec": {
      "name": "python3",
      "display_name": "Python 3"
    },
    "language_info": {
      "name": "python"
    }
  },
  "cells": [
    {
      "cell_type": "markdown",
      "metadata": {
        "id": "view-in-github",
        "colab_type": "text"
      },
      "source": [
        "<a href=\"https://colab.research.google.com/github/Heymi259/hola.mundo/blob/main/Practicadegooglecolaboraty.ipynb\" target=\"_parent\"><img src=\"https://colab.research.google.com/assets/colab-badge.svg\" alt=\"Open In Colab\"/></a>"
      ]
    },
    {
      "cell_type": "code",
      "execution_count": null,
      "metadata": {
        "id": "lpXL9zZ52U2m"
      },
      "outputs": [],
      "source": []
    },
    {
      "cell_type": "markdown",
      "source": [
        "La serie de Fibonacci es una cadena de numeros naturales infinita , a partir del 0 se van sumando los dos numeros anteriores ."
      ],
      "metadata": {
        "id": "om5gYTk66XT8"
      }
    },
    {
      "cell_type": "code",
      "source": [
        "1. # Bloque de codigo , aca copian el codigo de su programa y lo ejecutan .\n",
        "2.# Codigo para realizar la serie de FIBONACCI\n",
        "\n",
        "n=20\n",
        "a, b = 0, 1\n",
        "print(\" Sucesion de FIBONACCI: \")\n",
        "for i in range (n):\n",
        "    print(a, end=\" \")\n",
        "    a, b = b, a + b\n",
        "    print()"
      ],
      "metadata": {
        "colab": {
          "base_uri": "https://localhost:8080/"
        },
        "id": "buhMb84W2jgh",
        "outputId": "9d409693-bd6a-4d79-de06-ca20e1a0a0f6"
      },
      "execution_count": 2,
      "outputs": [
        {
          "output_type": "stream",
          "name": "stdout",
          "text": [
            " Sucesion de FIBONACII: \n",
            "0 \n",
            "1 \n",
            "1 \n",
            "2 \n",
            "3 \n",
            "5 \n",
            "8 \n",
            "13 \n",
            "21 \n",
            "34 \n",
            "55 \n",
            "89 \n",
            "144 \n",
            "233 \n",
            "377 \n",
            "610 \n",
            "987 \n",
            "1597 \n",
            "2584 \n",
            "4181 \n"
          ]
        }
      ]
    },
    {
      "cell_type": "markdown",
      "source": [],
      "metadata": {
        "id": "ljc28XNZ6Q8s"
      }
    },
    {
      "cell_type": "markdown",
      "source": [
        "Codigo que nos ayuda a sacar mas facil la cantidad de Yardas que se convierten en Kilometros ."
      ],
      "metadata": {
        "id": "8jTpn_dc60QL"
      }
    },
    {
      "cell_type": "code",
      "source": [
        "# 1. Codigo para convertir de Yardas a Kilometros con una funcion\n",
        "\n",
        "def convertir_yardas():\n",
        "    convertir = yardas * 0.0009144\n",
        "    return convertir\n",
        "yardas = int(input(\"Escribe el numero de yardas  que desea convertir \\n \"))\n",
        "respuesta = convertir_yardas()\n",
        "print(f\"El numero convertido a kilometros es {respuesta}\")"
      ],
      "metadata": {
        "colab": {
          "base_uri": "https://localhost:8080/"
        },
        "id": "w8sdpmzF5MvO",
        "outputId": "d9e4fd6c-587e-42e8-ef47-c4657922d323"
      },
      "execution_count": 3,
      "outputs": [
        {
          "output_type": "stream",
          "name": "stdout",
          "text": [
            "Escribe el numero de yardas  que desea convertir \n",
            " 4\n",
            "El numero convertido a kilometros es 0.0036576\n"
          ]
        }
      ]
    }
  ]
}